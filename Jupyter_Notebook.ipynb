{
 "cells": [
  {
   "cell_type": "markdown",
   "metadata": {},
   "source": [
    "<center>\n",
    "    <img src=\"https://cf-courses-data.s3.us.cloud-object-storage.appdomain.cloud/IBMDeveloperSkillsNetwork-DS0105EN-SkillsNetwork/labs/Module2/images/SN_web_lightmode.png\" width=\"300\" alt=\"cognitiveclass.ai logo\">\n",
    "</center>\n"
   ]
  },
  {
   "cell_type": "markdown",
   "metadata": {},
   "source": [
    "#### Add your code below following the instructions given in the course\n"
   ]
  },
  {
   "cell_type": "markdown",
   "metadata": {},
   "source": [
    "<h1>My Jupyter Notebook on IBM Watson Studio</h1>"
   ]
  },
  {
   "cell_type": "markdown",
   "metadata": {},
   "source": [
    "<b> SUREKA RENUGOPAL, CURRENT ROLE - APPLICATION LEAD, DESIRED - DATA SCIENCE LEAD </b>"
   ]
  },
  {
   "cell_type": "markdown",
   "metadata": {},
   "source": [
    "<i> I am interested in data science because I like Numbers. I was good at Maths at school and also have been associated with database development my entire professional career. </i>"
   ]
  },
  {
   "cell_type": "markdown",
   "metadata": {},
   "source": [
    " <h3> The below code is supposed to sum 2 numbers and written their result </h3>"
   ]
  },
  {
   "cell_type": "code",
   "execution_count": 1,
   "metadata": {},
   "outputs": [
    {
     "name": "stdout",
     "output_type": "stream",
     "text": [
      "the sum of 3 and 7 is 10\n"
     ]
    }
   ],
   "source": [
    "a = 3\n",
    "b = 7\n",
    "c = a + b\n",
    "print('the sum of {} and {} is {}'.format(a,b,c))"
   ]
  },
  {
   "cell_type": "code",
   "execution_count": 2,
   "metadata": {},
   "outputs": [
    {
     "name": "stdout",
     "output_type": "stream",
     "text": [
      "the product of 3 and 7 is 21\n"
     ]
    }
   ],
   "source": [
    "a = 3\n",
    "b = 7\n",
    "c = a * b\n",
    "print('the product of {} and {} is {}'.format(a,b,c))"
   ]
  },
  {
   "cell_type": "code",
   "execution_count": 3,
   "metadata": {},
   "outputs": [
    {
     "name": "stdout",
     "output_type": "stream",
     "text": [
      "there are 420 mins in 7 hrs\n"
     ]
    }
   ],
   "source": [
    "hrs = 7\n",
    "mins = 60 * hrs\n",
    "print('there are {} mins in {} hrs'.format(mins,hrs))"
   ]
  },
  {
   "cell_type": "markdown",
   "metadata": {},
   "source": [
    "LIST OF DATASCIENCE TOOLS\n",
    "<table>\n",
    "<tr> <th> DATA SCIENCE TOOLS </th> <th> Example </th> </tr>\n",
    "<tr> <td> DATA MGMT  </td> <td> Relnal DB [postgreSQL and MYSQL], NOSQL [ MongoDB, CouchDB, Cassandra], File s/m [Hadoop HDFS, ceph], elastic search</td> </tr>\n",
    "<tr> <td> DATA INTEGRATION AND TRANSFORMATION </td> <td> AIRFLOW, Kafka,  KubeFlow, nifi, Spark SQL, Node Red</td> </tr\n",
    "    <tr> <td> DATA VISULALIZATION</td> <td> Hue, Kibana,Superset</td> </tr>\n",
    "<tr> <td> MODEL DEPLOYMENT </td> <td>  ML OR DEEP LEARNING - PredictionIO, Seldom, Mleap, tensorFlow Service/Lite/JS</td> </tr>\n",
    "<tr> <td> MODEL MONITORING AND ASSESSMENT </td> <td>  ModelDB, prometheus, AI fairness</td> </tr>\n",
    "</table>"
   ]
  },
  {
   "cell_type": "markdown",
   "metadata": {},
   "source": [
    "<hr> \n",
    "\n",
    "My favorite search engine ==> <a href = 'www.google.com'> GOOGLE </a>\n",
    "\n",
    "My favorite colors\n",
    "<list>\n",
    "    <li>Black</li>\n",
    "    <li>Blue</li>\n",
    "    <li>Pink</li>\n",
    "<list>"
   ]
  },
  {
   "cell_type": "markdown",
   "metadata": {},
   "source": [
    "<b> DATA SCIENCE LIBRARY AND TYPES </b>\n",
    "<p>It’s possible to work with data in vanilla Python, but there are quite a few open-source libraries that make Python data tasks much, much easier.</p>\n",
    "    \n",
    "<ol>\n",
    "    <li> SCIENTIFIC COMPUTING \n",
    "        <ol>\n",
    "            <li> PANDAS (DS AND TOOLS) </li>\n",
    "            <li> NUMPY (ARRAYS) </li>\n",
    "        </ol>\n",
    "    </li>\n",
    "    <li> VISUALIZATION LIBRARIES\n",
    "        <ol>\n",
    "            <li> MATPLOTLIB (Plots and graphs) </li>\n",
    "            <li> SEABORN (heat maps, time series, violin plots) </li>\n",
    "         </ol>\n",
    "    </li>\n",
    "    <li> ML and DL \n",
    "        <ol>\n",
    "            <li> Scikit Learn (regression, classification) </li>\n",
    "            <li> Keras (Neural Networks) </li>\n",
    "            <li> Tensor Flow (Deep Learning - Prod and Dev) </li>\n",
    "            <li> PyTorch (Experimentation - DL regression, classification,..) </li>\n",
    "         </ol>\n",
    "    </li>\n",
    "</ol> "
   ]
  },
  {
   "cell_type": "code",
   "execution_count": null,
   "metadata": {},
   "outputs": [],
   "source": [
    "<b> DATA SCIENCE LANGUAGE AND TYPES </b>\n",
    "<ol>\n",
    "    <li> Python </li>\n",
    "    <li> R </li>\n",
    "    <li> SQL </li>\n",
    "    <li> Julia </li>\n",
    "    <li> Java </li>\n",
    "    <li> Scala </li>\n",
    "    <li> C++ </li>\n",
    "</ol>"
   ]
  }
 ],
 "metadata": {
  "kernelspec": {
   "display_name": "Python",
   "language": "python",
   "name": "conda-env-python-py"
  },
  "language_info": {
   "codemirror_mode": {
    "name": "ipython",
    "version": 3
   },
   "file_extension": ".py",
   "mimetype": "text/x-python",
   "name": "python",
   "nbconvert_exporter": "python",
   "pygments_lexer": "ipython3",
   "version": "3.7.12"
  }
 },
 "nbformat": 4,
 "nbformat_minor": 4
}
